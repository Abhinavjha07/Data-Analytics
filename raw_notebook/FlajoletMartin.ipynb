{
  "nbformat": 4,
  "nbformat_minor": 0,
  "metadata": {
    "kernelspec": {
      "name": "python3",
      "display_name": "Python 3"
    },
    "language_info": {
      "codemirror_mode": {
        "name": "ipython",
        "version": 3
      },
      "file_extension": ".py",
      "mimetype": "text/x-python",
      "name": "python",
      "nbconvert_exporter": "python",
      "pygments_lexer": "ipython3",
      "version": "3.6.8"
    },
    "colab": {
      "name": "FlajoletMartin.ipynb",
      "version": "0.3.2",
      "provenance": [],
      "toc_visible": true
    },
    "accelerator": "GPU"
  },
  "cells": [
    {
      "cell_type": "code",
      "metadata": {
        "id": "SEGnPRbsGTSF",
        "colab_type": "code",
        "colab": {
          "base_uri": "https://localhost:8080/",
          "height": 119
        },
        "outputId": "2743a503-ea5e-458a-d3a1-3c1eda48ecc7"
      },
      "source": [
        "!git clone https://github.com/dipsankarb/streaming.git"
      ],
      "execution_count": 1,
      "outputs": [
        {
          "output_type": "stream",
          "text": [
            "Cloning into 'streaming'...\n",
            "remote: Enumerating objects: 10, done.\u001b[K\n",
            "remote: Counting objects: 100% (10/10), done.\u001b[K\n",
            "remote: Compressing objects: 100% (7/7), done.\u001b[K\n",
            "remote: Total 10 (delta 0), reused 7 (delta 0), pack-reused 0\n",
            "Unpacking objects: 100% (10/10), done.\n"
          ],
          "name": "stdout"
        }
      ]
    },
    {
      "cell_type": "markdown",
      "metadata": {
        "id": "b_lmu4OQFQub",
        "colab_type": "text"
      },
      "source": [
        "# Flajolet Martin Algorithm for counting Distinct Elements \n",
        "\n",
        "In this implementation we are going to implement the FM algorithm foounting the number of unique quotes from the provided data file (memes). You have to implement the following:"
      ]
    },
    {
      "cell_type": "markdown",
      "metadata": {
        "id": "fas7BeJSFQud",
        "colab_type": "text"
      },
      "source": [
        "First define a function to count the number of trailing zeroes in tha binary representation."
      ]
    },
    {
      "cell_type": "code",
      "metadata": {
        "id": "jHIyU8CaFQue",
        "colab_type": "code",
        "outputId": "cc5d3221-652c-46fe-d01a-79aba3bc0d1d",
        "colab": {
          "base_uri": "https://localhost:8080/",
          "height": 207
        }
      },
      "source": [
        "!pip install mmh3\n",
        "import mmh3\n",
        "import statistics\n",
        "import math\n",
        "\n",
        "data_path = '/content/streaming/meme/meme.txt'\n",
        "data = []\n",
        "with open(data_path,'r') as f:\n",
        "    file_data = f.read()\n",
        "    file_data = file_data.split('\\n')\n",
        "\n",
        "data = []\n",
        "for line in file_data:\n",
        "    l = line.split('\\t',1)\n",
        "    data.append(l[1])\n",
        "\n",
        "\n",
        "print(len(data))\n",
        "def count_trailing_zeroes(n):\n",
        "    return len(n)-len(n.rstrip('0'))"
      ],
      "execution_count": 2,
      "outputs": [
        {
          "output_type": "stream",
          "text": [
            "Collecting mmh3\n",
            "  Downloading https://files.pythonhosted.org/packages/fa/7e/3ddcab0a9fcea034212c02eb411433db9330e34d626360b97333368b4052/mmh3-2.5.1.tar.gz\n",
            "Building wheels for collected packages: mmh3\n",
            "  Building wheel for mmh3 (setup.py) ... \u001b[?25l\u001b[?25hdone\n",
            "  Created wheel for mmh3: filename=mmh3-2.5.1-cp36-cp36m-linux_x86_64.whl size=37862 sha256=a3fbf7a04b1c0c55c7b5d2f17cb1fd5887a0e3010b1847b199c15ff4de6cfb66\n",
            "  Stored in directory: /root/.cache/pip/wheels/38/b4/ea/6e4e321c625d3320c0c496bf4088371546d8fce5f1dd71b219\n",
            "Successfully built mmh3\n",
            "Installing collected packages: mmh3\n",
            "Successfully installed mmh3-2.5.1\n",
            "224254\n"
          ],
          "name": "stdout"
        }
      ]
    },
    {
      "cell_type": "markdown",
      "metadata": {
        "id": "qcvDxcRbFQuj",
        "colab_type": "text"
      },
      "source": [
        "Now input the file memes.txt that is provided in the /meme directory"
      ]
    },
    {
      "cell_type": "markdown",
      "metadata": {
        "id": "lJ2JIlgIFQuk",
        "colab_type": "text"
      },
      "source": [
        "Initialize two arrays one for storing the different hashed values (binary) and another for storing the trailing zeroes."
      ]
    },
    {
      "cell_type": "markdown",
      "metadata": {
        "id": "9_2DFurfFQuq",
        "colab_type": "text"
      },
      "source": [
        "For every line in the file do the following:\n",
        "1. Use murmur hash to hash the line to a binary format using 10 seeds (varying from 1 to 10)\n",
        "     1. for (s in range(10))\n",
        "           binary[s] = format(abs(mmh3.hash(line, seed))), '032b')\n",
        "     2. for every binary[s] call count_trailing_zeroes() to find the number of trailing zeroes and and store in trails[]"
      ]
    },
    {
      "cell_type": "markdown",
      "metadata": {
        "id": "_k9NB9fpFQus",
        "colab_type": "text"
      },
      "source": [
        "Now create two groups of hashes (5 each). In each group calculate the expected number of disctinct element using the fact that it is with high probability $2^R$"
      ]
    },
    {
      "cell_type": "markdown",
      "metadata": {
        "id": "FuJGvNx9FQut",
        "colab_type": "text"
      },
      "source": [
        "Take average of medians of group wise results and show result"
      ]
    },
    {
      "cell_type": "code",
      "metadata": {
        "id": "KEfMslABFQum",
        "colab_type": "code",
        "outputId": "9d7f7f0a-b47a-409e-ff33-5c6e85d5b45e",
        "colab": {
          "base_uri": "https://localhost:8080/",
          "height": 102
        }
      },
      "source": [
        "num_hashes = 10\n",
        "trails = [[] for i in range(num_hashes)]\n",
        "\n",
        "max_trail = []\n",
        "for i in range(num_hashes):\n",
        "    for meme in data:\n",
        "        s = format(abs(mmh3.hash(meme,i)),'032b')\n",
        "        # print(s,count_trailing_zeroes(s))\n",
        "        trails[i].append(count_trailing_zeroes(s))\n",
        "\n",
        "    max_trail.append(max(trails[i]))\n",
        "print(max_trail)\n",
        "n_groups = 2\n",
        "x = num_hashes//n_groups\n",
        "groups = []\n",
        "for i in range(n_groups):\n",
        "    z = i*x\n",
        "    # print(max_trail[z:z+x])\n",
        "    groups.append(int(statistics.median(max_trail[z:z+x])))\n",
        "\n",
        "print('Group-wise result : ',groups)\n",
        "print('Average of median : ',int(statistics.mean(groups)))\n",
        "print('Ground Truth : ',len(set(data)))\n",
        "print('Expected value : ',2**int(statistics.mean(groups)))\n"
      ],
      "execution_count": 3,
      "outputs": [
        {
          "output_type": "stream",
          "text": [
            "[18, 20, 16, 18, 18, 16, 15, 17, 16, 22]\n",
            "Group-wise result :  [18, 16]\n",
            "Average of median :  17\n",
            "Ground Truth :  144739\n",
            "Expected value :  131072\n"
          ],
          "name": "stdout"
        }
      ]
    }
  ]
}