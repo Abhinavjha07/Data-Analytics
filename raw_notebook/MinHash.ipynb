{
  "nbformat": 4,
  "nbformat_minor": 0,
  "metadata": {
    "colab": {
      "name": "MinHash.ipynb",
      "provenance": [],
      "collapsed_sections": []
    },
    "kernelspec": {
      "name": "python3",
      "display_name": "Python 3"
    },
    "accelerator": "GPU"
  },
  "cells": [
    {
      "cell_type": "code",
      "metadata": {
        "id": "oGkdQjKbHxup",
        "colab_type": "code",
        "colab": {}
      },
      "source": [
        "import re\n",
        "import os\n",
        "import random\n",
        "import time\n",
        "import binascii\n",
        "import sys\n",
        "\n",
        "fstart = time.time()\n",
        "numHashes = 10\n",
        "\n",
        "numDocs = 10000\n",
        "numElems = int(numDocs * (numDocs - 1) / 2)\n",
        "\n",
        "\n",
        "jacard = [0 for j in range(numElems)]\n",
        "minHashSim = [0 for i in range(numElems)]\n",
        "\n",
        "dataFile = 'docs_'+str(numDocs) + '.train'\n",
        "plagFile = 'docs_'+str(numDocs) +'.plag'\n",
        "\n",
        "\n",
        "#returns index of triangular matrix\n",
        "def get_index(i,j):\n",
        "    #k = i*numDocs + j\n",
        "    k = int(i * (numDocs - (i + 1) / 2.0) + j - i) - 1\n",
        "    \n",
        "    return k\n",
        "\n",
        "doc_file = open(dataFile,'r')\n",
        "doc = doc_file.read()\n",
        "\n",
        "doc = list(doc.split('\\n'))\n",
        "\n",
        "\n",
        "doc = doc[:numDocs]\n",
        "\n",
        "\n",
        "plagiarisms = {}\n",
        "\n",
        "f = open(plagFile,'r')\n",
        "for line in f:\n",
        "    if line[-1] == '\\n':\n",
        "        line = line[0:-1]\n",
        "    \n",
        "    l = line.split(' ')\n",
        "    plagiarisms[l[0]] = l[1]\n",
        "    plagiarisms[l[1]] = l[0]\n",
        "    "
      ],
      "execution_count": 0,
      "outputs": []
    },
    {
      "cell_type": "code",
      "metadata": {
        "id": "kxTTMY4kN-XH",
        "colab_type": "code",
        "colab": {}
      },
      "source": [
        "def generate_shingles(s, n=3):\n",
        "    tokens = [token for token in s.split(\" \")]\n",
        "    ngrams = zip(*[tokens[i:] for i in range(n)])\n",
        "    return [\"\".join(ngram) for ngram in ngrams]"
      ],
      "execution_count": 0,
      "outputs": []
    },
    {
      "cell_type": "code",
      "metadata": {
        "id": "pmISgYbmOJwx",
        "colab_type": "code",
        "outputId": "3610d86a-ef2a-46b8-836f-746da74eeba2",
        "colab": {
          "base_uri": "https://localhost:8080/",
          "height": 68
        }
      },
      "source": [
        "\n",
        "print('Creating Shingles')\n",
        "\n",
        "c_shingleID = 0\n",
        "documentShingleSets = {}\n",
        "\n",
        "doc_names = []\n",
        "n_shingles = 0\n",
        "\n",
        "shingle_Set = set()\n",
        "\n",
        "#chapter 6 in book frequent item (traingular matrix implementation)\n",
        "\n",
        "for i in range(len(doc)):\n",
        "\n",
        "    row = doc[i].split(' ',1)\n",
        "    \n",
        "    shingles = generate_shingles(row[1])\n",
        "    shingle_hash = set()\n",
        "#     words = row[1].split(' ')\n",
        "    \n",
        "    for shingle in shingles:\n",
        "        h = binascii.crc32(shingle.encode()) & 0xffffffff\n",
        "\n",
        "        shingle_hash.add(h)\n",
        "        shingle_Set.add(h)\n",
        "    \n",
        "    doc_names.append(row[0])\n",
        "    \n",
        "    n_shingles += len(shingles)\n",
        "    \n",
        "    documentShingleSets[row[0]] = shingle_hash\n",
        "    \n",
        "    \n",
        "    \n",
        "    \n",
        "print(n_shingles,len(shingle_Set))\n",
        "print('Average shingles : ',n_shingles/numDocs)\n",
        "# print(doc_names)\n"
      ],
      "execution_count": 0,
      "outputs": [
        {
          "output_type": "stream",
          "text": [
            "Creating Shingles\n",
            "2519893 1540681\n",
            "Average shingles :  251.9893\n"
          ],
          "name": "stdout"
        }
      ]
    },
    {
      "cell_type": "code",
      "metadata": {
        "id": "5mW6zAktWYRc",
        "colab_type": "code",
        "outputId": "f5deb3ac-bc58-40d4-aa82-9e5e10896b38",
        "colab": {
          "base_uri": "https://localhost:8080/",
          "height": 34
        }
      },
      "source": [
        "start = time.time()\n",
        "\n",
        "for i in range(numDocs):\n",
        "#     l = []\n",
        "    for j in range(i+1,numDocs):\n",
        "        s1 = documentShingleSets[doc_names[i]]\n",
        "        s2 = documentShingleSets[doc_names[j]]\n",
        "#         l.append(len(s1&s2)/(len(s1|s2)))\n",
        "\n",
        "        jacard[(int)(get_index(i,j))] = (len(s1&s2)/len(s1|s2))\n",
        "    \n",
        "finish = time.time()\n",
        "print('Time taken to create Jacard : ',finish-start)\n",
        "#for using the triangular matrix\n",
        "# k = (i-1)(n-i/2) + j- i\n",
        "\n",
        "\n",
        "        \n",
        "        \n",
        "        "
      ],
      "execution_count": 0,
      "outputs": [
        {
          "output_type": "stream",
          "text": [
            "Time taken to create Jacard :  9.429308891296387\n"
          ],
          "name": "stdout"
        }
      ]
    },
    {
      "cell_type": "code",
      "metadata": {
        "id": "28i8JIRYYrqE",
        "colab_type": "code",
        "colab": {}
      },
      "source": [
        "#Min Hashing\n",
        "maxShingleID = pow(2,32)-1\n",
        "\n",
        "mod = 4294967311\n",
        "\n",
        "\n",
        "#(ax+b)%c\n",
        "\n",
        "#generating the random coefficients\n",
        "\n",
        "\n",
        "\n",
        "def generate_coef(k):\n",
        "    \n",
        "    i = 0\n",
        "    l = []\n",
        "    while i<k:\n",
        "        x = random.randint(0,maxShingleID)\n",
        "        while x in l:\n",
        "            x = random.randint(0,maxShingleID)\n",
        "            \n",
        "        l.append(x)\n",
        "        i += 1\n",
        "        \n",
        "    return l\n",
        "            \n",
        "        \n",
        "        \n",
        "\n"
      ],
      "execution_count": 0,
      "outputs": []
    },
    {
      "cell_type": "code",
      "metadata": {
        "id": "YRn7pBvcamRt",
        "colab_type": "code",
        "outputId": "892606f5-9454-4f3a-b490-f8f36a794a88",
        "colab": {
          "base_uri": "https://localhost:8080/",
          "height": 34
        }
      },
      "source": [
        "\n",
        "A = generate_coef(numHashes)\n",
        "B = generate_coef(numHashes)\n",
        "\n",
        "signatures = []\n",
        "start = time.time()\n",
        "for doc in doc_names:\n",
        "    shingles = documentShingleSets[doc]\n",
        "    \n",
        "    sign = []\n",
        "    \n",
        "    for i in range(numHashes):\n",
        "        m = sys.maxsize\n",
        "        \n",
        "        for shingle in shingles:\n",
        "            h = ((A[i]*shingle)%mod + B[i])%mod\n",
        "            \n",
        "            if m>h:\n",
        "                m = h\n",
        "        sign.append(m)\n",
        "    signatures.append(sign)\n",
        "    \n",
        "finish = time.time()\n",
        "print('Time taken to create signatures : ',finish-start)\n",
        "\n",
        "\n",
        "    \n",
        "    \n",
        "    \n",
        "    \n",
        "            \n",
        "        \n",
        "\n"
      ],
      "execution_count": 0,
      "outputs": [
        {
          "output_type": "stream",
          "text": [
            "Time taken to create signatures :  10.49237322807312\n"
          ],
          "name": "stdout"
        }
      ]
    },
    {
      "cell_type": "code",
      "metadata": {
        "id": "8pKw0z-ENksV",
        "colab_type": "code",
        "outputId": "3d2524a6-c9ae-4cd9-8c6b-0e16695e60da",
        "colab": {
          "base_uri": "https://localhost:8080/",
          "height": 34
        }
      },
      "source": [
        "\n",
        "start = time.time()\n",
        "for i in range(numDocs):\n",
        "    sign1 = signatures[i]\n",
        "    for j in range(i+1,numDocs):\n",
        "        sign2 = signatures[j]\n",
        "        c = 0\n",
        "        for k in range(len(sign2)):\n",
        "            if sign1[k] == sign2[k]:\n",
        "                c += 1\n",
        "                \n",
        "        \n",
        "        \n",
        "        minHashSim[int(get_index(i,j))] = c / numHashes\n",
        "\n",
        "finish = time.time()\n",
        "\n",
        "print('Time taken to generate MinHash : ',finish-fstart)\n",
        "# print(minHashSim)        "
      ],
      "execution_count": 0,
      "outputs": [
        {
          "output_type": "stream",
          "text": [
            "Time taken to generate MinHash :  128.63265800476074\n"
          ],
          "name": "stdout"
        }
      ]
    },
    {
      "cell_type": "code",
      "metadata": {
        "id": "-zIcb337Rgkq",
        "colab_type": "code",
        "outputId": "c280255c-9ce2-4e5f-dee7-10fde803e2cf",
        "colab": {
          "base_uri": "https://localhost:8080/",
          "height": 1000
        }
      },
      "source": [
        "true_pos = 0\n",
        "false_pos = 0\n",
        "threshold = 0.5\n",
        "\n",
        "\n",
        "print('Similar documents : \\n DOC1 DOC2 MINHASH JACARD')\n",
        "for i in range(numDocs):\n",
        "    for j in range(i+1,numDocs):\n",
        "        if minHashSim[int(get_index(i,j))] > threshold:\n",
        "            print(doc_names[i],doc_names[j],minHashSim[int(get_index(i,j))],jacard[int(get_index(i,j))])\n",
        "            \n",
        "            if doc_names[i] in plagiarisms and plagiarisms[doc_names[i]] == doc_names[j]:\n",
        "                true_pos += 1\n",
        "            else:\n",
        "                false_pos += 1\n",
        "                \n",
        "                \n",
        "finish = time.time()               \n",
        "print('True positive : ',true_pos,' / ',len(plagiarisms)//2)\n",
        "print('False positive : ',false_pos)\n",
        "\n",
        "print('Time taken to run the complete code : ',finish-fstart)\n",
        "            \n",
        "            "
      ],
      "execution_count": 0,
      "outputs": [
        {
          "output_type": "stream",
          "text": [
            "Similar documents : \n",
            " DOC1 DOC2 MINHASH JACARD\n",
            "t6520 t6906 1.0 0\n",
            "t980 t2023 1.0 0\n",
            "t9248 t4211 1.0 0\n",
            "t4969 t2390 1.0 0\n",
            "t8090 t1898 1.0 0\n",
            "t379 t3446 1.0 0\n",
            "t8805 t8306 1.0 0\n",
            "t6092 t3783 1.0 0\n",
            "t1513 t764 1.0 0\n",
            "t5442 t906 1.0 0\n",
            "t4530 t7907 0.9 0\n",
            "t8826 t9285 0.9 0\n",
            "t3136 t8469 1.0 0\n",
            "t1726 t9170 1.0 0\n",
            "t5239 t2001 1.0 0\n",
            "t7958 t1621 1.0 0\n",
            "t104 t4172 1.0 0\n",
            "t2475 t1142 1.0 0\n",
            "t3072 t7923 1.0 0\n",
            "t7563 t3466 1.0 0\n",
            "t673 t2432 1.0 0\n",
            "t8535 t448 1.0 0\n",
            "t6613 t9385 1.0 0\n",
            "t6261 t5262 1.0 0\n",
            "t1768 t5248 0.9 0\n",
            "t3268 t7998 1.0 0\n",
            "t6205 t4467 1.0 0\n",
            "t1782 t7716 1.0 0\n",
            "t7527 t8101 0.8 0\n",
            "t288 t6999 1.0 0\n",
            "t4591 t1206 1.0 0\n",
            "t617 t3684 1.0 0\n",
            "t969 t6244 0.8 0\n",
            "t9445 t6370 1.0 0\n",
            "t1088 t5015 1.0 0\n",
            "t4015 t2356 1.0 0\n",
            "t5999 t1403 1.0 0\n",
            "t1436 t492 1.0 0\n",
            "t797 t3088 1.0 0\n",
            "t9363 t1012 0.9 0\n",
            "t8496 t4615 1.0 0\n",
            "t3600 t644 1.0 0\n",
            "t7412 t7623 1.0 0\n",
            "t2535 t8642 1.0 0\n",
            "t4638 t1297 1.0 0\n",
            "t6571 t2100 1.0 0\n",
            "t4022 t3358 1.0 0\n",
            "t462 t7069 1.0 0\n",
            "t9596 t787 1.0 0\n",
            "t269 t8413 1.0 0\n",
            "t4099 t3725 1.0 0\n",
            "t5551 t7693 1.0 0\n",
            "t4792 t7973 1.0 0\n",
            "t2839 t9303 1.0 0\n",
            "t9724 t8861 1.0 0\n",
            "t5304 t7320 1.0 0\n",
            "t9549 t1488 1.0 0\n",
            "t4910 t5780 1.0 0\n",
            "t1374 t3257 1.0 0\n",
            "t6539 t321 1.0 0\n",
            "t7717 t4455 1.0 0\n",
            "t1057 t5702 1.0 0\n",
            "t9620 t8561 1.0 0\n",
            "t7270 t8387 1.0 0\n",
            "t6235 t3702 1.0 0\n",
            "t9355 t5416 1.0 0\n",
            "t1998 t5871 1.0 0\n",
            "t1295 t6680 1.0 0\n",
            "t9230 t1583 1.0 0\n",
            "t3727 t3982 1.0 0\n",
            "t8979 t3575 1.0 0\n",
            "t495 t494 0.6 0\n",
            "t706 t707 0.6 0\n",
            "t646 t4628 1.0 0\n",
            "t3020 t2121 1.0 0\n",
            "t2957 t7111 0.9 0\n",
            "t3495 t1952 1.0 0\n",
            "t9455 t8164 1.0 0\n",
            "t840 t9579 1.0 0\n",
            "t3889 t538 1.0 0\n",
            "t4755 t5544 1.0 0\n",
            "t5411 t9894 1.0 0\n",
            "True positive :  80  /  80\n",
            "False positive :  2\n",
            "Time taken to run the complete code :  156.19292974472046\n"
          ],
          "name": "stdout"
        }
      ]
    }
  ]
}