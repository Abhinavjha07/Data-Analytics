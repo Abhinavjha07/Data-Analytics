{
  "nbformat": 4,
  "nbformat_minor": 0,
  "metadata": {
    "colab": {
      "name": "Lab9.ipynb",
      "provenance": []
    },
    "kernelspec": {
      "name": "python3",
      "display_name": "Python 3"
    },
    "accelerator": "GPU"
  },
  "cells": [
    {
      "cell_type": "code",
      "metadata": {
        "id": "BBnVr1jpmOr_",
        "colab_type": "code",
        "outputId": "e4462ea5-a652-4506-affb-e247961be3fc",
        "colab": {
          "base_uri": "https://localhost:8080/",
          "height": 119
        }
      },
      "source": [
        "!git clone https://github.com/dipsankarb/graphs.git"
      ],
      "execution_count": 0,
      "outputs": [
        {
          "output_type": "stream",
          "text": [
            "Cloning into 'graphs'...\n",
            "remote: Enumerating objects: 8, done.\u001b[K\n",
            "remote: Counting objects:  12% (1/8)\u001b[K\rremote: Counting objects:  25% (2/8)\u001b[K\rremote: Counting objects:  37% (3/8)\u001b[K\rremote: Counting objects:  50% (4/8)\u001b[K\rremote: Counting objects:  62% (5/8)\u001b[K\rremote: Counting objects:  75% (6/8)\u001b[K\rremote: Counting objects:  87% (7/8)\u001b[K\rremote: Counting objects: 100% (8/8)\u001b[K\rremote: Counting objects: 100% (8/8), done.\u001b[K\n",
            "remote: Compressing objects:  16% (1/6)\u001b[K\rremote: Compressing objects:  33% (2/6)\u001b[K\rremote: Compressing objects:  50% (3/6)\u001b[K\rremote: Compressing objects:  66% (4/6)\u001b[K\rremote: Compressing objects:  83% (5/6)\u001b[K\rremote: Compressing objects: 100% (6/6)\u001b[K\rremote: Compressing objects: 100% (6/6), done.\u001b[K\n",
            "Unpacking objects:  12% (1/8)   \rUnpacking objects:  25% (2/8)   \rUnpacking objects:  37% (3/8)   \rUnpacking objects:  50% (4/8)   \rUnpacking objects:  62% (5/8)   \rremote: Total 8 (delta 0), reused 5 (delta 0), pack-reused 0\u001b[K\n",
            "Unpacking objects:  75% (6/8)   \rUnpacking objects:  87% (7/8)   \rUnpacking objects: 100% (8/8)   \rUnpacking objects: 100% (8/8), done.\n"
          ],
          "name": "stdout"
        }
      ]
    },
    {
      "cell_type": "code",
      "metadata": {
        "id": "tJRtFPLlYbyh",
        "colab_type": "code",
        "outputId": "0cfa4316-a81d-4504-e886-9320488b643a",
        "colab": {
          "base_uri": "https://localhost:8080/",
          "height": 224
        }
      },
      "source": [
        "!apt-get install openjdk-8-jdk-headless -qq > /dev/null\n",
        "!wget http://apachemirror.wuchna.com/spark/spark-2.4.4/spark-2.4.4-bin-hadoop2.7.tgz\n",
        "!tar xf spark-2.4.4-bin-hadoop2.7.tgz\n",
        "!pip install -q findspark\n"
      ],
      "execution_count": 0,
      "outputs": [
        {
          "output_type": "stream",
          "text": [
            "--2019-11-14 06:29:05--  http://apachemirror.wuchna.com/spark/spark-2.4.4/spark-2.4.4-bin-hadoop2.7.tgz\n",
            "Resolving apachemirror.wuchna.com (apachemirror.wuchna.com)... 104.26.2.179, 104.26.3.179, 2606:4700:20::681a:2b3, ...\n",
            "Connecting to apachemirror.wuchna.com (apachemirror.wuchna.com)|104.26.2.179|:80... connected.\n",
            "HTTP request sent, awaiting response... 200 OK\n",
            "Length: 230091034 (219M) [application/x-gzip]\n",
            "Saving to: ‘spark-2.4.4-bin-hadoop2.7.tgz’\n",
            "\n",
            "spark-2.4.4-bin-had 100%[===================>] 219.43M  7.91MB/s    in 29s     \n",
            "\n",
            "2019-11-14 06:29:34 (7.67 MB/s) - ‘spark-2.4.4-bin-hadoop2.7.tgz’ saved [230091034/230091034]\n",
            "\n"
          ],
          "name": "stdout"
        }
      ]
    },
    {
      "cell_type": "code",
      "metadata": {
        "id": "hQiyNNQ2YqSx",
        "colab_type": "code",
        "colab": {}
      },
      "source": [
        "import os\n",
        "os.environ[\"JAVA_HOME\"] = \"/usr/lib/jvm/java-8-openjdk-amd64\"\n",
        "os.environ[\"SPARK_HOME\"] = \"/content/spark-2.4.4-bin-hadoop2.7\"\n",
        "import findspark\n",
        "findspark.init()\n",
        "from pyspark.sql import SparkSession\n",
        "spark = SparkSession.builder.master(\"local[*]\").getOrCreate()"
      ],
      "execution_count": 0,
      "outputs": []
    },
    {
      "cell_type": "code",
      "metadata": {
        "id": "KjK7gQ_ocaJJ",
        "colab_type": "code",
        "colab": {}
      },
      "source": [
        "import re\n",
        "\n",
        "def computeContribs(urls, rank):\n",
        "    num_urls = len(urls)\n",
        "    for url in urls:\n",
        "        yield (url, rank / num_urls)\n",
        "\n",
        "\n",
        "def parseNeighbors(urls):\n",
        "    parts = re.split(r'\\s+', urls)\n",
        "    return parts[0], parts[1]"
      ],
      "execution_count": 0,
      "outputs": []
    },
    {
      "cell_type": "code",
      "metadata": {
        "id": "hbCOAOqBdRwZ",
        "colab_type": "code",
        "colab": {}
      },
      "source": [
        "!rm -r /content/output_page_rank_small"
      ],
      "execution_count": 0,
      "outputs": []
    },
    {
      "cell_type": "code",
      "metadata": {
        "id": "B_cOZKCOcgiC",
        "colab_type": "code",
        "outputId": "66f45bb9-d01f-4ef3-91a7-0096110925f1",
        "colab": {
          "base_uri": "https://localhost:8080/",
          "height": 1000
        }
      },
      "source": [
        "lines = spark.read.text('/content/graphs/small.txt').rdd.map(lambda r: r[0])\n",
        "links = lines.map(lambda urls: parseNeighbors(urls)).distinct().groupByKey().cache()\n",
        "\n",
        "\n",
        "ranks = links.map(lambda url_neighbors: (url_neighbors[0], 1.0))\n",
        "\n",
        "N = ranks.count()\n",
        "iterations = 40\n",
        "\n",
        "for iteration in range(iterations):\n",
        "    contribs = links.join(ranks).flatMap(lambda urls_rank: computeContribs(urls_rank[1][0], urls_rank[1][1]))\n",
        "    \n",
        "    ranks = contribs.reduceByKey(lambda r1,r2 : r1 + r2).mapValues(lambda rank: rank * 0.80 + 0.20*(1/(N)))\n",
        "\n",
        "\n",
        "rank_list = {}\n",
        "for (link, rank) in ranks.collect():\n",
        "    rank_list[link] = rank\n",
        "    print(\"%s has rank: %s.\" % (link, rank))\n",
        "\n",
        "spark.stop()"
      ],
      "execution_count": 0,
      "outputs": [
        {
          "output_type": "stream",
          "text": [
            "48 has rank: 0.025818524132253773.\n",
            "87 has rank: 0.013665084070648646.\n",
            "72 has rank: 0.00440210804971127.\n",
            "9 has rank: 0.013049811484297276.\n",
            "41 has rank: 0.008139889487303407.\n",
            "1 has rank: 0.030471828510931123.\n",
            "75 has rank: 0.006714930274172718.\n",
            "95 has rank: 0.007706722013793672.\n",
            "76 has rank: 0.004905361640649055.\n",
            "58 has rank: 0.005188754288486331.\n",
            "88 has rank: 0.0046405896088193.\n",
            "96 has rank: 0.018889370810830648.\n",
            "25 has rank: 0.007471022397910645.\n",
            "84 has rank: 0.0040628361847872795.\n",
            "34 has rank: 0.006446306841456598.\n",
            "70 has rank: 0.010623550555850134.\n",
            "31 has rank: 0.012489912832965118.\n",
            "26 has rank: 0.014542755631943509.\n",
            "78 has rank: 0.015024727630785389.\n",
            "79 has rank: 0.01991980448975001.\n",
            "97 has rank: 0.0063588445866225125.\n",
            "3 has rank: 0.007874568376559015.\n",
            "83 has rank: 0.013447090705256048.\n",
            "99 has rank: 0.009116845770037445.\n",
            "35 has rank: 0.013171253462686099.\n",
            "68 has rank: 0.005091070030892512.\n",
            "100 has rank: 0.013122901884215584.\n",
            "22 has rank: 0.015497518134823772.\n",
            "23 has rank: 0.004159062031254322.\n",
            "86 has rank: 0.0045002861207388955.\n",
            "18 has rank: 0.013480335107259362.\n",
            "32 has rank: 0.005039954923382467.\n",
            "21 has rank: 0.006308673220817254.\n",
            "71 has rank: 0.007285625379829345.\n",
            "61 has rank: 0.019484300048581177.\n",
            "15 has rank: 0.006501038224914585.\n",
            "45 has rank: 0.004530680085667406.\n",
            "14 has rank: 0.034689092546312285.\n",
            "7 has rank: 0.004308576352874807.\n",
            "63 has rank: 0.004344938931054485.\n",
            "62 has rank: 0.007431372622536227.\n",
            "39 has rank: 0.012424671378911312.\n",
            "89 has rank: 0.003949699685409914.\n",
            "36 has rank: 0.00536642375350266.\n",
            "57 has rank: 0.017920854824833965.\n",
            "50 has rank: 0.004291652399312352.\n",
            "24 has rank: 0.0072763641981707485.\n",
            "43 has rank: 0.006462194725520337.\n",
            "94 has rank: 0.004284523382862306.\n",
            "56 has rank: 0.007958387127727038.\n",
            "52 has rank: 0.013449149831046345.\n",
            "77 has rank: 0.007243018595159306.\n",
            "4 has rank: 0.0076585482206860695.\n",
            "54 has rank: 0.011824440458211438.\n",
            "92 has rank: 0.01918481223900429.\n",
            "28 has rank: 0.0064217722951561045.\n",
            "27 has rank: 0.030179360600210092.\n",
            "29 has rank: 0.0072706992998170985.\n",
            "93 has rank: 0.005925082239384936.\n",
            "11 has rank: 0.005062897134622636.\n",
            "16 has rank: 0.0059521656011022805.\n",
            "85 has rank: 0.003425809193257864.\n",
            "60 has rank: 0.009090759225530426.\n",
            "74 has rank: 0.016298164083734936.\n",
            "44 has rank: 0.012918404704244855.\n",
            "19 has rank: 0.005643595707601933.\n",
            "59 has rank: 0.003690347087083019.\n",
            "55 has rank: 0.00786619993013908.\n",
            "53 has rank: 0.0362895722334998.\n",
            "40 has rank: 0.03415493851222178.\n",
            "33 has rank: 0.005377702206722466.\n",
            "81 has rank: 0.0037192295785773545.\n",
            "37 has rank: 0.0038336081585461997.\n",
            "10 has rank: 0.007695907885256951.\n",
            "2 has rank: 0.005920153699281283.\n",
            "67 has rank: 0.007803906479619445.\n",
            "17 has rank: 0.006310347125354906.\n",
            "12 has rank: 0.00536233025782498.\n",
            "80 has rank: 0.005873863520051965.\n",
            "64 has rank: 0.007802238548610994.\n",
            "49 has rank: 0.005598641283144872.\n",
            "65 has rank: 0.019406646824756936.\n",
            "69 has rank: 0.006735576548346503.\n",
            "98 has rank: 0.00508716283267888.\n",
            "46 has rank: 0.005160478587694208.\n",
            "30 has rank: 0.007115972857653785.\n",
            "8 has rank: 0.006651951073958657.\n",
            "6 has rank: 0.006492758720743391.\n",
            "20 has rank: 0.0050298293570626654.\n",
            "47 has rank: 0.0060473508481654155.\n",
            "5 has rank: 0.01550552544470955.\n",
            "13 has rank: 0.0184774804912239.\n",
            "51 has rank: 0.008345261925856138.\n",
            "38 has rank: 0.007231111189425248.\n",
            "90 has rank: 0.008563291501064873.\n",
            "91 has rank: 0.006237895836574778.\n",
            "73 has rank: 0.00793839981392819.\n",
            "42 has rank: 0.010998063823316818.\n",
            "66 has rank: 0.02963069473567504.\n",
            "82 has rank: 0.007803547850818148.\n"
          ],
          "name": "stdout"
        }
      ]
    },
    {
      "cell_type": "code",
      "metadata": {
        "id": "ZLJoSLEVt1dK",
        "colab_type": "code",
        "outputId": "a57d000f-59ff-40ec-8c84-6a269654c986",
        "colab": {
          "base_uri": "https://localhost:8080/",
          "height": 136
        }
      },
      "source": [
        "ranks = dict(sorted(rank_list.items(), key=lambda kv: kv[1]))\n",
        "\n",
        "x = 0\n",
        "print('Bottom 5 : \\nNode\\t Rank')\n",
        "for k in ranks:\n",
        "    x += 1\n",
        "    print(k, ranks[k])\n",
        "    if(x == 5):\n",
        "        break"
      ],
      "execution_count": 0,
      "outputs": [
        {
          "output_type": "stream",
          "text": [
            "Bottom 5 : \n",
            "Node\t Rank\n",
            "558 0.00034989710662642324\n",
            "93 0.0003760331380601572\n",
            "62 0.00037620234553268977\n",
            "424 0.00038010454268700593\n",
            "408 0.000417344143686734\n"
          ],
          "name": "stdout"
        }
      ]
    },
    {
      "cell_type": "code",
      "metadata": {
        "id": "gQKPdV78wD7u",
        "colab_type": "code",
        "outputId": "6bd2329a-a29e-495d-a1dc-be1940abf192",
        "colab": {
          "base_uri": "https://localhost:8080/",
          "height": 136
        }
      },
      "source": [
        "ranks = dict(sorted(rank_list.items(), key=lambda kv: kv[1],reverse = True))\n",
        "\n",
        "x = 0\n",
        "print('Top 5 : \\nNode\\t Rank')\n",
        "for k in ranks:\n",
        "    x += 1\n",
        "    print(k, ranks[k])\n",
        "    if(x == 5):\n",
        "        break"
      ],
      "execution_count": 0,
      "outputs": [
        {
          "output_type": "stream",
          "text": [
            "Top 5 : \n",
            "Node\t Rank\n",
            "263 0.002325110013647295\n",
            "537 0.002251117718147551\n",
            "965 0.0022161262486851932\n",
            "243 0.002131150723863407\n",
            "285 0.002097595272978842\n"
          ],
          "name": "stdout"
        }
      ]
    },
    {
      "cell_type": "code",
      "metadata": {
        "id": "sOaBXkKntif8",
        "colab_type": "code",
        "colab": {}
      },
      "source": [
        "lines = spark.read.text('/content/graphs/whole.txt').rdd.map(lambda r: r[0])\n",
        "links = lines.map(lambda urls: parseNeighbors(urls)).distinct().groupByKey().cache()\n",
        "\n",
        "ranks = links.map(lambda url_neighbors: (url_neighbors[0], 1.0))\n",
        "\n",
        "N = ranks.count()\n",
        "iterations = 40\n",
        "\n",
        "for iteration in range(iterations):\n",
        "    contribs = links.join(ranks).flatMap(lambda url_urls_rank: computeContribs(url_urls_rank[1][0], url_urls_rank[1][1]))\n",
        "    ranks = contribs.reduceByKey(lambda r1,r2 : r1 + r2).mapValues(lambda rank: rank * 0.80 + 0.20*(1/(N)))\n",
        "\n",
        "rank_list = {}\n",
        "for (link, rank) in ranks.collect():\n",
        "    rank_list[link] = rank\n",
        "    # print(\"%s has rank: %s.\" % (link, rank))\n",
        "\n",
        "# ranks.collect()\n",
        "# ranks.saveAsTextFile('output_page_rank_large')\n",
        "spark.stop()"
      ],
      "execution_count": 0,
      "outputs": []
    }
  ]
}