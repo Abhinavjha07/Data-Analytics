{
  "nbformat": 4,
  "nbformat_minor": 0,
  "metadata": {
    "kernelspec": {
      "name": "python3",
      "display_name": "Python 3"
    },
    "language_info": {
      "codemirror_mode": {
        "name": "ipython",
        "version": 3
      },
      "file_extension": ".py",
      "mimetype": "text/x-python",
      "name": "python",
      "nbconvert_exporter": "python",
      "pygments_lexer": "ipython3",
      "version": "3.6.8"
    },
    "colab": {
      "name": "BloomFilter.ipynb",
      "version": "0.3.2",
      "provenance": [],
      "toc_visible": true
    },
    "accelerator": "GPU"
  },
  "cells": [
    {
      "cell_type": "code",
      "metadata": {
        "id": "b5JqzBAVbzXc",
        "colab_type": "code",
        "colab": {}
      },
      "source": [
        "!git clone https://github.com/dipsankarb/streaming.git"
      ],
      "execution_count": 0,
      "outputs": []
    },
    {
      "cell_type": "markdown",
      "metadata": {
        "id": "xRIJGY91YRZz",
        "colab_type": "text"
      },
      "source": [
        "# Bloom Filter \n",
        "\n",
        "The Bloom Filtering is a technique that is popularly used for setting a filter on a stream so that only the items that have been already seen before. So it allows all stream elements whose keys are in a stream $S$ while rejecting most of the stream elements whose keys are not in $S$."
      ]
    },
    {
      "cell_type": "markdown",
      "metadata": {
        "id": "xy21dmoTYRZ1",
        "colab_type": "text"
      },
      "source": [
        "First define some helper methdos that can help in the implementation."
      ]
    },
    {
      "cell_type": "code",
      "metadata": {
        "id": "vxyAI9GjYRZ3",
        "colab_type": "code",
        "colab": {}
      },
      "source": [
        "# We will use the bitarray library for defining the hash table\n",
        "import numpy as np\n",
        "!pip install bitarray\n",
        "!pip install mmh3\n",
        "from bitarray import bitarray\n",
        "\n",
        "import random\n",
        "import mmh3\n",
        "import math\n",
        "\n",
        "\n",
        "train_data_path = '/content/streaming/email/train.csv'\n",
        "\n",
        "test_data_path = '/content/streaming/email/test.csv'\n",
        "train_data = []\n",
        "with open(train_data_path,'r') as f:\n",
        "    data = f.read()\n",
        "    data = data.split('\\n')\n",
        "    for d in data:\n",
        "        train_data.append(d)\n",
        "\n",
        "train_data = train_data[:-1]\n",
        "# print(train_data)\n",
        "\n",
        "# print(len(train_data))\n",
        "test_data = []\n",
        "with open(test_data_path,'r') as f:\n",
        "    data = f.read()\n",
        "    data = data.split('\\n')\n",
        "    for d in data:\n",
        "        test_data.append(d)\n",
        "\n",
        "test_data = test_data[:-1]\n",
        "# print(test_data)\n",
        "\n",
        "    "
      ],
      "execution_count": 0,
      "outputs": []
    },
    {
      "cell_type": "code",
      "metadata": {
        "id": "8kMgJdzIYRZ_",
        "colab_type": "code",
        "outputId": "2436b37e-0ce5-446f-d247-5bf326912245",
        "colab": {
          "base_uri": "https://localhost:8080/",
          "height": 51
        }
      },
      "source": [
        "# ca and cb are hash function co-efficients\n",
        "# val is the value to be hashed\n",
        "# p is the current size of the hash table (the mod part, find a large prime number for this that is >p)\n",
        "\n",
        "mod = 2**32 - 1\n",
        "def getSize(n,prob):\n",
        "    m = -(n * math.log(prob))/(math.log(2)**2) \n",
        "    return int(m)\n",
        "\n",
        "def num_hashes(m,n):\n",
        "    k = (m/n)*math.log(2)\n",
        "    return int(k)\n",
        "\n",
        "def generate_coef(k):\n",
        "    i = 0\n",
        "    l = []\n",
        "    while i<k:\n",
        "        x = random.randint(0,mod)\n",
        "        while x in l:\n",
        "            x = random.randint(0,mod)\n",
        "            \n",
        "        l.append(x)\n",
        "        i += 1\n",
        "        \n",
        "    return l\n",
        "\n",
        "n = len(train_data)\n",
        "\n",
        "false_prob = 0.02\n",
        "\n",
        "size_bitArray = getSize(n,false_prob)\n",
        "k = num_hashes(size_bitArray,n)\n",
        "\n",
        "coefficient_A = generate_coef(k)\n",
        "coefficient_B = generate_coef(k)\n",
        "\n",
        "print('BitArray size : ',size_bitArray,'\\nNumber of hash functions : ',k)\n",
        "\n",
        "\n",
        "bitArray = bitarray(size_bitArray)\n",
        "bitArray.setall(0)\n",
        "\n",
        "\n",
        "def add(val):\n",
        "    for i in range(k):\n",
        "        # x = mmh3.hash(val,i)%size_bitArray\n",
        "        x = (coefficient_A[i]*encode(val) + coefficient_B[i])%size_bitArray\n",
        "        updateFilter(x)\n",
        "\n",
        "def check(val):\n",
        "    for i in range(k):\n",
        "        # x = mmh3.hash(val,i)%size_bitArray\n",
        "        x = (coefficient_A[i]*encode(val) + coefficient_B[i])%size_bitArray\n",
        "\n",
        "        if bitArray[x] == 0:\n",
        "            return False\n",
        "    return True\n",
        "    "
      ],
      "execution_count": 26,
      "outputs": [
        {
          "output_type": "stream",
          "text": [
            "BitArray size :  16284 \n",
            "Number of hash functions :  5\n"
          ],
          "name": "stdout"
        }
      ]
    },
    {
      "cell_type": "code",
      "metadata": {
        "id": "tKA7FqpZYRaF",
        "colab_type": "code",
        "colab": {}
      },
      "source": [
        "# Now set to 1 in the bitarray b from hashFunc()\n",
        "\n",
        "def updateFilter(pos) : bitArray[pos] = 1"
      ],
      "execution_count": 0,
      "outputs": []
    },
    {
      "cell_type": "markdown",
      "metadata": {
        "id": "00f43KB9YRaL",
        "colab_type": "text"
      },
      "source": [
        "You all are aware of the probability relationship in Bloom Filters which can be given by:\n",
        "\n",
        "$P = (1 - (1-\\frac{1}{n})^{km})^k$\n",
        "\n",
        "where n is the size of the bit-array and there are m items to be filtered.\n",
        "\n",
        "In the following function set the size of the hash table (prime) which can be found out by using the formula derived from the above one as:\n",
        "\n",
        "$n = -\\frac{m\\ln P}{(ln 2)^2}$\n",
        "\n",
        "Additionally the number of hash functions can be computed as :\n",
        "\n",
        "$k = \\frac{n}{m} ln2$"
      ]
    },
    {
      "cell_type": "markdown",
      "metadata": {
        "id": "YBx0LRsIYRaW",
        "colab_type": "text"
      },
      "source": [
        "Now input the data list (of emails from /email directory)"
      ]
    },
    {
      "cell_type": "markdown",
      "metadata": {
        "id": "qQFtdbb-YRaX",
        "colab_type": "text"
      },
      "source": [
        "For each of the emails, find the unicode sum for all of it's characters using ord() function"
      ]
    },
    {
      "cell_type": "code",
      "metadata": {
        "id": "pnUl9x6u5JV2",
        "colab_type": "code",
        "colab": {}
      },
      "source": [
        "def encode(val):\n",
        "    en = sum(ord(c) for c in val)\n",
        "    return en"
      ],
      "execution_count": 0,
      "outputs": []
    },
    {
      "cell_type": "code",
      "metadata": {
        "id": "4ZjgjtC1YRaR",
        "colab_type": "code",
        "colab": {}
      },
      "source": [
        "# now generate k hash functions using random integers for ca and cb and maximum size p\n",
        "for word in train_data:\n",
        "    add(word)\n",
        "\n",
        "    \n"
      ],
      "execution_count": 0,
      "outputs": []
    },
    {
      "cell_type": "markdown",
      "metadata": {
        "id": "KjXOH_D1YRaZ",
        "colab_type": "text"
      },
      "source": [
        "Use the unicode sums as the val in hashFunc() to hash each email"
      ]
    },
    {
      "cell_type": "markdown",
      "metadata": {
        "id": "ytcvFmGjYRae",
        "colab_type": "text"
      },
      "source": [
        "Now input the test data and for every data, write the following check() function where it will go over the k hash functions and see if the email has been seen or not. If any of the bit is the bitarray is false, then the email does not exist else there is a probability P that it exists."
      ]
    },
    {
      "cell_type": "markdown",
      "metadata": {
        "id": "hSPhMyWhYRak",
        "colab_type": "text"
      },
      "source": [
        "For the test data, show what is the value of P, what is size of bit-array, and how many are definietly not present, how many are probably present, and how many false positives are there in the bit array."
      ]
    },
    {
      "cell_type": "code",
      "metadata": {
        "id": "24JafOfhAWWt",
        "colab_type": "code",
        "outputId": "bd91c809-b619-4e7d-b103-d4495193f775",
        "colab": {
          "base_uri": "https://localhost:8080/",
          "height": 85
        }
      },
      "source": [
        "test_data.append('jhaabhinav1998@gmail.com')\n",
        "test_data.append('abhijha07@yahoo.in')\n",
        "# print(getSize(len(test_data),false_prob))\n",
        "n_false,n_present,n_not_present = 0,0,0\n",
        "for word in test_data:\n",
        "    if check(word):\n",
        "        if word not in train_data:\n",
        "            n_false += 1\n",
        "            # print(\"'{}' is a false positive!\".format(word))\n",
        "        else:\n",
        "            n_present += 1\n",
        "            # print(\"'{}' is probably present!\".format(word))\n",
        "    else:\n",
        "        n_not_present += 1\n",
        "        # print(\"'{}' is definitely not present!\".format(word))\n",
        "\n",
        "print('Occupancy rate of bitArray : ',(sum(bitArray)/len(bitArray)) * 100, '%')\n",
        "print('No. of false positive : ',n_false)\n",
        "print('No. of definitely not present : ',n_not_present)\n",
        "print('No. of probably present : ',n_present)\n"
      ],
      "execution_count": 30,
      "outputs": [
        {
          "output_type": "stream",
          "text": [
            "Occupancy rate of bitArray :  25.878162613608453 %\n",
            "No. of false positive :  1\n",
            "No. of definitely not present :  1\n",
            "No. of probably present :  500\n"
          ],
          "name": "stdout"
        }
      ]
    }
  ]
}