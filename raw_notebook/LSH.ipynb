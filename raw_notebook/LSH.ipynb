{
  "nbformat": 4,
  "nbformat_minor": 0,
  "metadata": {
    "kernelspec": {
      "name": "python3",
      "display_name": "Python 3"
    },
    "language_info": {
      "codemirror_mode": {
        "name": "ipython",
        "version": 3
      },
      "file_extension": ".py",
      "mimetype": "text/x-python",
      "name": "python",
      "nbconvert_exporter": "python",
      "pygments_lexer": "ipython3",
      "version": "3.6.8"
    },
    "colab": {
      "name": "lab4.ipynb",
      "version": "0.3.2",
      "provenance": [],
      "collapsed_sections": [],
      "toc_visible": true
    },
    "accelerator": "GPU"
  },
  "cells": [
    {
      "cell_type": "markdown",
      "metadata": {
        "id": "NKKOV7-0LwXd",
        "colab_type": "text"
      },
      "source": [
        "# Locality sensitive hashing using MinHash\n",
        "\n",
        "The idea behind locality sensitive hashing is to take the document fingerprints and chop them up into pieces, each piece being some number of `minhash`es. Since a single `minhash` (single entry in the fingerprint) has a probability equal to the Jaccard similarity of producing a collision, each chopped up portion of the fingerprint should as well. This chopped up portion is the `locality` in locality sensitive hashing, the `hashing` is just a hash function (any hash function) which produces a `bin ID` from the fingerprint `locality` being hashed. Each bin holds the entire fingerprint (with optional meta information) of the document and that of other documents that hash to the same `bin`.\n",
        "\n",
        "Let's say our fingerprint has 100 `minhash`es in it and we chop the fingerprints into 10 pieces. Each piece of each fingerprint therefore contains 10 `minhash`es, we hash those again (not using `minhash` this time) to get a `bin ID` and store the whole fingerprint in every bin each of the pieces happens to land in.\n",
        "\n",
        "When we want to know which documents are similar to a query document, we look in all the bins the query document lands in, any document in any of the bins is a potential duplicate. Comparing the full fingerprint of all documents in the bin or computing the actual Jaccard similarity between the shingle sets yields the final similarity of documents. Crucially _since not all documents will land in the same bins we've reduced the number of comparisons needed to find similar or near duplicate documents_.\n",
        "\n",
        "The number of pieces to chop each fingerprint into and the size of each piece are parameters that need to be set. These should be set such that $num\\_pieces \\times size\\_of\\_piece == num\\_minhashes$ - this makes sense since having computed all the $N$ `minhash`es we want to use all of them in the locality sensitive hashing part. There is however a further issue that needs to be considered when setting the parameters; the relation between the number and size of the pieces and the probability of LSH \"finding\" a pair of similar documents.\n",
        "\n",
        "LSH is a probabilistic model which means that it won't always do the \"right thing\". Using LSH one needs to consider the similarity of a pair of documents (in this case the Jaccard similarity) and the probability that LSH will find that pair to be similar (a true positive, i.e. a correctly discovered duplicate pair). The pair of documents LSH finds to be similar should be thought of as _candidate_ duplicates. The higher the probability, or guarantee, that LSH will find a pair of documents to be similar the more false positives the model will also produce, that is candidate duplicates that are not in fact duplicates."
      ]
    },
    {
      "cell_type": "code",
      "metadata": {
        "ExecuteTime": {
          "end_time": "2017-06-01T14:22:01.613179Z",
          "start_time": "2017-06-01T14:21:44.613310Z"
        },
        "id": "aBVzvIUDLwXf",
        "colab_type": "code",
        "colab": {}
      },
      "source": [
        "%matplotlib inline\n",
        "\n",
        "import numpy as np\n",
        "import pandas as pd\n",
        "import seaborn as sns\n",
        "from matplotlib import pyplot as plt\n",
        "\n",
        "ix = pd.IndexSlice"
      ],
      "execution_count": 0,
      "outputs": []
    },
    {
      "cell_type": "markdown",
      "metadata": {
        "id": "wFF8_vaWLwXl",
        "colab_type": "text"
      },
      "source": [
        "## How setting LSH parameters affects finding similar documents"
      ]
    },
    {
      "cell_type": "markdown",
      "metadata": {
        "id": "0XQw-cw4LwXo",
        "colab_type": "text"
      },
      "source": [
        "Create a pandas dataframe with different configurations for b and r values. The different sizes are as follows: (2, 50), (50, 2), (10, 10), (5, 20), (20, 5)."
      ]
    },
    {
      "cell_type": "markdown",
      "metadata": {
        "id": "-HtBYP_TLwXq",
        "colab_type": "text"
      },
      "source": [
        "For every b and r compute the probability values using the equation discussed in class i.e, $p = 1 - (1 - t^b)^r$. Vary the threshold value from 0 to 1 with around 200 intervals."
      ]
    },
    {
      "cell_type": "markdown",
      "metadata": {
        "id": "-sl4Lj1WLwXs",
        "colab_type": "text"
      },
      "source": [
        "Create a pandas pivot table with the columns hashes, bands, row."
      ]
    },
    {
      "cell_type": "markdown",
      "metadata": {
        "id": "cKkoF7ByLwXu",
        "colab_type": "text"
      },
      "source": [
        "Initialize a plot with figsize of (10, 7) and title \"Probability of LSH of finding a candidate pair\""
      ]
    },
    {
      "cell_type": "markdown",
      "metadata": {
        "id": "MhvQFoJBLwXv",
        "colab_type": "text"
      },
      "source": [
        "Set ylabel to be \"p\" and xlabel to be \"Jaccard Similarity\". Now display the plot with the different values. "
      ]
    },
    {
      "cell_type": "code",
      "metadata": {
        "id": "zVWXoIiMY34c",
        "colab_type": "code",
        "outputId": "c8d26c20-d949-47bc-e3a8-3907d1984cfe",
        "colab": {
          "base_uri": "https://localhost:8080/",
          "height": 1000
        }
      },
      "source": [
        "comb = [[2,50],[50,2],[10,10],[5,20],[20,5]] \n",
        "\n",
        "\n",
        "data = pd.DataFrame(comb,columns = ['b','r'])\n",
        "T = np.arange(0,1,0.005)    \n",
        "X = []\n",
        "for z in data.itertuples():\n",
        "    b = z[1]\n",
        "    r = z[2]\n",
        "    l = []\n",
        "    for t in T:\n",
        "        l.append(1-pow((1-pow(t,b)),r))\n",
        "    X.append(l)\n",
        "    \n",
        "\n",
        "for i in range(len(comb)):\n",
        "    print('b : ',comb[i][0],'\\t r : ',comb[i][1])\n",
        "    plt.figure(figsize=(10,7))\n",
        "    plt.title('Probability of LSH of finding a candidate pair')\n",
        "    plt.xlabel('Jaccard Similarity')\n",
        "    plt.ylabel('P')\n",
        "    plt.plot(T,X[i])\n",
        "\n",
        "    plt.show()\n",
        "\n"
      ],
      "execution_count": 30,
      "outputs": [
        {
          "output_type": "stream",
          "text": [
            "b :  2 \t r :  50\n"
          ],
          "name": "stdout"
        },
        {
          "output_type": "display_data",
          "data": {
            "image/png": "[encoded data removed]",
            "text/plain": [
              "<Figure size 720x504 with 1 Axes>"
            ]
          },
          "metadata": {
            "tags": []
          }
        },
        {
          "output_type": "stream",
          "text": [
            "b :  50 \t r :  2\n"
          ],
          "name": "stdout"
        },
        {
          "output_type": "display_data",
          "data": {
            "image/png": "[encoded data removed]",
            "text/plain": [
              "<Figure size 720x504 with 1 Axes>"
            ]
          },
          "metadata": {
            "tags": []
          }
        },
        {
          "output_type": "stream",
          "text": [
            "b :  10 \t r :  10\n"
          ],
          "name": "stdout"
        },
        {
          "output_type": "display_data",
          "data": {
            "image/png": "[encoded data removed]",
            "text/plain": [
              "<Figure size 720x504 with 1 Axes>"
            ]
          },
          "metadata": {
            "tags": []
          }
        },
        {
          "output_type": "stream",
          "text": [
            "b :  5 \t r :  20\n"
          ],
          "name": "stdout"
        },
        {
          "output_type": "display_data",
          "data": {
            "image/png": "[encoded data removed]",
            "text/plain": [
              "<Figure size 720x504 with 1 Axes>"
            ]
          },
          "metadata": {
            "tags": []
          }
        },
        {
          "output_type": "stream",
          "text": [
            "b :  20 \t r :  5\n"
          ],
          "name": "stdout"
        },
        {
          "output_type": "display_data",
          "data": {
            "image/png": "[encoded data removed]",
            "text/plain": [
              "<Figure size 720x504 with 1 Axes>"
            ]
          },
          "metadata": {
            "tags": []
          }
        }
      ]
    },
    {
      "cell_type": "markdown",
      "metadata": {
        "id": "PEjGYPepLwXw",
        "colab_type": "text"
      },
      "source": [
        "## Computing LSH"
      ]
    },
    {
      "cell_type": "markdown",
      "metadata": {
        "id": "RMj9ChlQLwXy",
        "colab_type": "text"
      },
      "source": [
        "Now import the MinHash function from your last assignment to get the MinHashSim matrix. You may re-insert the entire function too here."
      ]
    },
    {
      "cell_type": "code",
      "metadata": {
        "id": "YcR092aYnyk0",
        "colab_type": "code",
        "outputId": "11871c15-b639-401d-b448-7acc0f57bfed",
        "colab": {
          "base_uri": "https://localhost:8080/",
          "height": 119
        }
      },
      "source": [
        "import re\n",
        "import os\n",
        "import random\n",
        "import time\n",
        "import binascii\n",
        "import sys\n",
        "import string\n",
        "import sys\n",
        "\n",
        "\n",
        "fstart = time.time()\n",
        "numHashes = 100\n",
        "\n",
        "numDocs = 1000\n",
        "numElems = int(numDocs * (numDocs - 1) / 2)\n",
        "\n",
        "\n",
        "jacard = [0 for j in range(numElems)]\n",
        "minHashSim = [0 for i in range(numElems)]\n",
        "\n",
        "dataFile = 'docs_'+str(numDocs) + '.train'\n",
        "plagFile = 'docs_'+str(numDocs) +'.plag'\n",
        "\n",
        "\n",
        "#returns index of triangular matrix\n",
        "def get_index(i,j):\n",
        "    #k = i*numDocs + j\n",
        "    k = int(i * (numDocs - (i + 1) / 2.0) + j - i) - 1\n",
        "    \n",
        "    return k\n",
        "\n",
        "doc_file = open(dataFile,'r')\n",
        "doc = doc_file.read()\n",
        "\n",
        "doc = list(doc.split('\\n'))\n",
        "\n",
        "\n",
        "doc = doc[:numDocs]\n",
        "\n",
        "\n",
        "plagiarisms = {}\n",
        "\n",
        "f = open(plagFile,'r')\n",
        "for line in f:\n",
        "    if line[-1] == '\\n':\n",
        "        line = line[0:-1]\n",
        "    \n",
        "    l = line.split(' ')\n",
        "    plagiarisms[l[0]] = l[1]\n",
        "    plagiarisms[l[1]] = l[0]\n",
        "\n",
        "def generate_shingles(s, n=3):\n",
        "    tokens = [token for token in s.split(\" \")]\n",
        "    ngrams = zip(*[tokens[i:] for i in range(n)])\n",
        "    return [\"\".join(ngram) for ngram in ngrams]\n",
        "\n",
        "print('Creating Shingles')\n",
        "\n",
        "c_shingleID = 0\n",
        "documentShingleSets = {}\n",
        "\n",
        "doc_names = []\n",
        "n_shingles = 0\n",
        "\n",
        "shingle_Set = set()\n",
        "\n",
        "\n",
        "for i in range(len(doc)):\n",
        "\n",
        "    row = doc[i].split(' ',1)\n",
        "    \n",
        "    shingles = generate_shingles(row[1])\n",
        "    shingle_hash = set()\n",
        "#     words = row[1].split(' ')\n",
        "    \n",
        "    for shingle in shingles:\n",
        "        h = binascii.crc32(shingle.encode()) & 0xffffffff\n",
        "\n",
        "        shingle_hash.add(h)\n",
        "        shingle_Set.add(h)\n",
        "    \n",
        "    doc_names.append(row[0])\n",
        "    \n",
        "    n_shingles += len(shingles)\n",
        "    \n",
        "    documentShingleSets[row[0]] = shingle_hash\n",
        "    \n",
        "    \n",
        "    \n",
        "    \n",
        "print(n_shingles,len(shingle_Set))\n",
        "print('Average shingles : ',n_shingles/numDocs)\n",
        "# print(doc_names)\n",
        "\n",
        "start = time.time()\n",
        "\n",
        "for i in range(numDocs):\n",
        "#     l = []\n",
        "    for j in range(i+1,numDocs):\n",
        "        s1 = documentShingleSets[doc_names[i]]\n",
        "        s2 = documentShingleSets[doc_names[j]]\n",
        "#         l.append(len(s1&s2)/(len(s1|s2)))\n",
        "\n",
        "        jacard[(int)(get_index(i,j))] = (len(s1&s2)/len(s1|s2))\n",
        "    \n",
        "finish = time.time()\n",
        "print('Time taken to create Jacard : ',finish-start)\n",
        "\n",
        "#Min Hashing\n",
        "maxShingleID = pow(2,32)-1\n",
        "\n",
        "mod = 4294967311\n",
        "\n",
        "\n",
        "#(ax+b)%c\n",
        "\n",
        "#generating the random coefficients\n",
        "\n",
        "\n",
        "\n",
        "def generate_coef(k):\n",
        "    \n",
        "    i = 0\n",
        "    l = []\n",
        "    while i<k:\n",
        "        x = random.randint(0,maxShingleID)\n",
        "        while x in l:\n",
        "            x = random.randint(0,maxShingleID)\n",
        "            \n",
        "        l.append(x)\n",
        "        i += 1\n",
        "        \n",
        "    return l\n",
        "\n",
        "A = generate_coef(numHashes)\n",
        "B = generate_coef(numHashes)\n",
        "\n",
        "signatures = []\n",
        "start = time.time()\n",
        "for doc in doc_names:\n",
        "    shingles = documentShingleSets[doc]\n",
        "    \n",
        "    sign = []\n",
        "    \n",
        "    for i in range(numHashes):\n",
        "        m = sys.maxsize\n",
        "        \n",
        "        for shingle in shingles:\n",
        "            h = ((A[i]*shingle)%mod + B[i])%mod\n",
        "            \n",
        "            if m>h:\n",
        "                m = h\n",
        "        sign.append(m)\n",
        "    signatures.append(sign)\n",
        "    \n",
        "finish = time.time()\n",
        "print('Time taken to create signatures : ',finish-start)\n",
        "\n",
        "start = time.time()\n",
        "for i in range(numDocs):\n",
        "    sign1 = signatures[i]\n",
        "    for j in range(i+1,numDocs):\n",
        "        sign2 = signatures[j]\n",
        "        c = 0\n",
        "        for k in range(len(sign2)):\n",
        "            if sign1[k] == sign2[k]:\n",
        "                c += 1\n",
        "                \n",
        "        minHashSim[int(get_index(i,j))] = c / numHashes\n",
        "\n",
        "finish = time.time()\n",
        "\n",
        "print('Time taken to generate MinHash : ',finish-start)\n",
        "t_flag = 1"
      ],
      "execution_count": 31,
      "outputs": [
        {
          "output_type": "stream",
          "text": [
            "Creating Shingles\n",
            "251239 210005\n",
            "Average shingles :  251.239\n",
            "Time taken to create Jacard :  11.192990779876709\n",
            "Time taken to create signatures :  12.67300796508789\n",
            "Time taken to generate MinHash :  6.509731292724609\n"
          ],
          "name": "stdout"
        }
      ]
    },
    {
      "cell_type": "markdown",
      "metadata": {
        "id": "sygXolLsLwXz",
        "colab_type": "text"
      },
      "source": [
        "Now set the different parameters that you shall need from the MinHashSim matrix. Like, the numHashes, numBands, numRows, and numRowsPerBand"
      ]
    },
    {
      "cell_type": "markdown",
      "metadata": {
        "id": "uXCASfqlLwX1",
        "colab_type": "text"
      },
      "source": [
        "Write the LSH function that will re-use the same hash functions computed for MinHash to iterate through every band (and every document in the band) and find out the new hash value. Create a new list for the band and check if the hash value is already in it. If not then add the new hash value."
      ]
    },
    {
      "cell_type": "markdown",
      "metadata": {
        "id": "tWr06rXcLwX2",
        "colab_type": "text"
      },
      "source": [
        "Maintain a global dictionary of buckets (for every band) and keep adding the buckets as and when they are created."
      ]
    },
    {
      "cell_type": "markdown",
      "metadata": {
        "id": "Y7m5xxerLwX4",
        "colab_type": "text"
      },
      "source": [
        "Now write a getNearest(n) function, which will find out that for a document 'n' find out and display the nearest documents as a list of document numbers. "
      ]
    },
    {
      "cell_type": "markdown",
      "metadata": {
        "id": "gSCLxisOLwX5",
        "colab_type": "text"
      },
      "source": [
        "Now set a threshold and find out how many false positives and false negatives you are getting. You have to now compare with the JaccSim matrix to get the document similarities."
      ]
    },
    {
      "cell_type": "markdown",
      "metadata": {
        "id": "-fdfWF6BLwX7",
        "colab_type": "text"
      },
      "source": [
        "Repeat the experiments for the docs_1000, docs_2500, and docs_10000 data sets. To be downloaded from this git link. : https://github.com/dipsankarb/data.git . Also, please do not push the data files while submitting the assignment."
      ]
    },
    {
      "cell_type": "code",
      "metadata": {
        "id": "80gY-5yB3wzV",
        "colab_type": "code",
        "outputId": "7918ead9-e003-41c6-f43a-afadd233342d",
        "colab": {
          "base_uri": "https://localhost:8080/",
          "height": 136
        }
      },
      "source": [
        "from collections import defaultdict\n",
        "num_bands = 5\n",
        "\n",
        "\n",
        "num_rows = 10\n",
        "start = time.time()\n",
        "\n",
        "\n",
        "similar_doc = set()\n",
        "\n",
        "global_bucket = []\n",
        "\n",
        "if(t_flag == 1):\n",
        "    signatures = list(map(list, zip(*signatures)))\n",
        "    \n",
        "t_flag = 0\n",
        "\n",
        "for i in range(num_bands):\n",
        "    x = i*num_rows\n",
        "    doc_hash = {}\n",
        "    for k in range(numDocs):\n",
        "        \n",
        "        m = sys.maxsize\n",
        "        for j in range(i*num_rows,(i+1)*num_rows,1):\n",
        "            h = ((A[j-x]*signatures[j][k])%mod + B[j-x])%mod\n",
        "            \n",
        "            if m>h:\n",
        "                m = h\n",
        "                \n",
        "        doc_hash[doc_names[k]] = m\n",
        "        \n",
        "    bucket = defaultdict(list)\n",
        "    for doc in doc_hash: \n",
        "        x = doc_hash[doc]\n",
        "        bucket[str(x)].append(doc)\n",
        "        \n",
        "    l = []\n",
        "    for t in bucket:\n",
        "        l.append(bucket[t])\n",
        "    global_bucket.append(l)\n",
        "        \n",
        "    \n",
        "    \n",
        "    for h in bucket:\n",
        "        if len(bucket[h])>1:\n",
        "#             print(bucket[h])\n",
        "            similar_doc.add(tuple(bucket[h]))\n",
        "            \n",
        "        \n",
        "      \n",
        "# print(similar_doc)\n",
        "\n",
        "def get_similar(doc):\n",
        "    l = []\n",
        "    for t in similar_doc:\n",
        "        if doc in t:\n",
        "            for doc_id in t:\n",
        "                if doc_id != doc:\n",
        "                    l.append(doc_id)\n",
        "                  \n",
        "                  \n",
        "    return l\n",
        "  \n",
        "def getNearest(doc):\n",
        "    C = {}\n",
        "    for bucket in global_bucket:\n",
        "        \n",
        "        for t in bucket:\n",
        "            if doc in t:\n",
        "                for x in t:\n",
        "                    if x!= doc:\n",
        "                        if x in C:\n",
        "                            C[x] += 1\n",
        "                        else:\n",
        "                            C[x] = 1\n",
        "                            \n",
        "                            \n",
        "    ans = \"\"\n",
        "    m = 0\n",
        "    for d in C:\n",
        "        if m<C[d]:\n",
        "            m = C[d]\n",
        "            ans = d\n",
        "            \n",
        "    return ans\n",
        "        \n",
        "findn = 't1088'  \n",
        "print('Similar documents to',findn,'are : ',get_similar(findn))\n",
        "\n",
        "\n",
        "print('Nearest document to',findn,'is : ',getNearest(findn))\n",
        "\n",
        "doc_index = {}\n",
        "z = 0\n",
        "for doc in doc_names:\n",
        "    doc_index[doc] = z\n",
        "    z += 1\n",
        "\n",
        "true_pos = 0\n",
        "false_pos = 0\n",
        "threshold = 0.5\n",
        "flag = [0]*numDocs\n",
        "for t in similar_doc:\n",
        "    for x in t:\n",
        "        for y in t:\n",
        "            if x != y:\n",
        "                i = doc_index[x]\n",
        "                j = doc_index[y]\n",
        "                i,j = min(i,j),max(i,j)\n",
        "                if not flag[i] and not flag[j] and jacard[(int)(get_index(i,j))] >= threshold:\n",
        "                    \n",
        "                    if x in plagiarisms and plagiarisms[x] == y:\n",
        "                        true_pos += 1\n",
        "                    else:\n",
        "                        false_pos += 1\n",
        "                elif not flag[i] or not flag[j]:\n",
        "                    false_pos += 1\n",
        "                flag[i] = 1\n",
        "                flag[j] = 1\n",
        "                \n",
        "                \n",
        "finish = time.time()               \n",
        "print('True positive : ',true_pos,' / ',len(plagiarisms)//2)\n",
        "print('False positive : ',false_pos)\n",
        "print('False negative : ',len(plagiarisms)//2 - true_pos)\n",
        "print('Time taken to complete LSH : ',finish-start)\n",
        "print('Time taken to run the complete code : ',finish-fstart)     "
      ],
      "execution_count": 33,
      "outputs": [
        {
          "output_type": "stream",
          "text": [
            "Similar documents to t1088 are :  ['t5015']\n",
            "Nearest document to t1088 is :  t5015\n",
            "True positive :  9  /  10\n",
            "False positive :  323\n",
            "False negative :  1\n",
            "Time taken to complete LSH :  0.04968881607055664\n",
            "Time taken to run the complete code :  75.73630738258362\n"
          ],
          "name": "stdout"
        }
      ]
    }
  ]
}